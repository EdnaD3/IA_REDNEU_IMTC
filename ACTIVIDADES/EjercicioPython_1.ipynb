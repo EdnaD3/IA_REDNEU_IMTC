{
  "nbformat": 4,
  "nbformat_minor": 0,
  "metadata": {
    "colab": {
      "provenance": []
    },
    "kernelspec": {
      "name": "python3",
      "display_name": "Python 3"
    },
    "language_info": {
      "name": "python"
    }
  },
  "cells": [
    {
      "cell_type": "markdown",
      "source": [
        "###ACTIVIDAD No.2- Ejercicios en Python\n",
        "Nombre Completo: Edna Valeria Degollado García\n",
        "/ Matrícula: 2035693\n",
        "/ Hora Clase: N1"
      ],
      "metadata": {
        "id": "0iGeN1YIwOxX"
      }
    },
    {
      "cell_type": "markdown",
      "source": [
        "*1. Escribe un programa que solicite al usuario un número y que indique si es par o impar.*"
      ],
      "metadata": {
        "id": "KRL_v24Uw7NK"
      }
    },
    {
      "cell_type": "code",
      "source": [
        "n = int(input(\"ingresa un número: \"))\n",
        "if n % 2 == 0:\n",
        "    print(\"El número...\",n,\":es PAR\")\n",
        "else:\n",
        "    print(\"El número...\",n, \":es IMPAR\")"
      ],
      "metadata": {
        "colab": {
          "base_uri": "https://localhost:8080/"
        },
        "id": "q7PnhcYfw_La",
        "outputId": "15826710-caf5-4afb-ac24-bbf86690b995"
      },
      "execution_count": 7,
      "outputs": [
        {
          "output_type": "stream",
          "name": "stdout",
          "text": [
            "ingresa un número: 7\n",
            "El número... 7 :es IMPAR\n"
          ]
        }
      ]
    },
    {
      "cell_type": "markdown",
      "source": [
        "2. *Escribe un programa que tome una lista de números ingresados por el usuario y muestre la lista en orden inverso.*\n"
      ],
      "metadata": {
        "id": "AoJOh6XZxEpN"
      }
    },
    {
      "cell_type": "code",
      "source": [
        "lista1= []\n",
        "for i in range(0,5):\n",
        "  n=input(\"ingresa un número: \")\n",
        "  lista1.append(n)\n",
        "lista2=lista1[:]\n",
        "lista2.reverse()\n",
        "print(\"LOS NÚMEROS INGRESADOS FUERON: \",lista1)\n",
        "print(\"Y AL REVÉS SON: \",lista2)"
      ],
      "metadata": {
        "colab": {
          "base_uri": "https://localhost:8080/"
        },
        "id": "AUmua8ajxJA6",
        "outputId": "89dcc970-7f47-49f7-e891-45ad4d26f14c"
      },
      "execution_count": 14,
      "outputs": [
        {
          "output_type": "stream",
          "name": "stdout",
          "text": [
            "ingresa un número: 1\n",
            "ingresa un número: 2\n",
            "ingresa un número: 3\n",
            "ingresa un número: 4\n",
            "ingresa un número: 5\n",
            "LOS NÚMEROS INGRESADOS FUERON:  ['1', '2', '3', '4', '5']\n",
            "Y AL REVÉS SON:  ['5', '4', '3', '2', '1']\n"
          ]
        }
      ]
    },
    {
      "cell_type": "markdown",
      "source": [
        "*3. Juego de adivinar el número: Crea un programa que genere un número aleatorio entre 1 y 100, y luego le pida al usuario que adivine el número. El programa debe proporcionar pistas al usuario si el número es mayor o menor que el número objetivo, y seguir solicitando un nuevo intento hasta que el usuario adivine correctamente.*"
      ],
      "metadata": {
        "id": "x8CzDoxC3uYs"
      }
    },
    {
      "cell_type": "code",
      "source": [
        "import random\n",
        "numeros=random.randint(1,100)\n",
        "intentos=0\n",
        "adivinados=False\n",
        "\n",
        "print(\"Adivina un número del 1 al 100\")\n",
        "\n",
        "while not adivinados:\n",
        "\n",
        "  try:\n",
        "    intento=int(input(\"¿Cuál número crees que sea?: \"))\n",
        "    intentos += 1\n",
        "    if intento < numeros:\n",
        "      print(\"El número es mayor. Intenta de nuevo.\")\n",
        "    elif intento > numeros:\n",
        "      print(\"El número es menor. Intenta de nuevo.\")\n",
        "    else:\n",
        "      print(f\"¡SI ES!\")\n",
        "      adivinado=True\n",
        "\n",
        "  except ValueError:\n",
        "    print(\"No es válido... pon uno del 1 al 100 >:C \")"
      ],
      "metadata": {
        "colab": {
          "base_uri": "https://localhost:8080/",
          "height": 650
        },
        "id": "Nifr2ogP53Lm",
        "outputId": "64717308-eff7-4e93-d07c-d6e215d5759c"
      },
      "execution_count": 32,
      "outputs": [
        {
          "output_type": "stream",
          "name": "stdout",
          "text": [
            "Adivina un número del 1 al 100\n",
            "¿Cuál número crees que sea?: 10\n",
            "El número es mayor. Intenta de nuevo.\n",
            "¿Cuál número crees que sea?: 20\n",
            "El número es mayor. Intenta de nuevo.\n",
            "¿Cuál número crees que sea?: 30\n",
            "El número es menor. Intenta de nuevo.\n",
            "¿Cuál número crees que sea?: 25\n",
            "El número es mayor. Intenta de nuevo.\n",
            "¿Cuál número crees que sea?: 26\n",
            "El número es mayor. Intenta de nuevo.\n",
            "¿Cuál número crees que sea?: 27\n",
            "¡SI ES!\n",
            "¿Cuál número crees que sea?: \n",
            "No es válido... pon uno del 1 al 100 >:C \n"
          ]
        },
        {
          "output_type": "error",
          "ename": "KeyboardInterrupt",
          "evalue": "ignored",
          "traceback": [
            "\u001b[0;31m---------------------------------------------------------------------------\u001b[0m",
            "\u001b[0;31mKeyboardInterrupt\u001b[0m                         Traceback (most recent call last)",
            "\u001b[0;32m<ipython-input-32-e7f0f581e96c>\u001b[0m in \u001b[0;36m<cell line: 8>\u001b[0;34m()\u001b[0m\n\u001b[1;32m      9\u001b[0m \u001b[0;34m\u001b[0m\u001b[0m\n\u001b[1;32m     10\u001b[0m   \u001b[0;32mtry\u001b[0m\u001b[0;34m:\u001b[0m\u001b[0;34m\u001b[0m\u001b[0;34m\u001b[0m\u001b[0m\n\u001b[0;32m---> 11\u001b[0;31m     \u001b[0mintento\u001b[0m\u001b[0;34m=\u001b[0m\u001b[0mint\u001b[0m\u001b[0;34m(\u001b[0m\u001b[0minput\u001b[0m\u001b[0;34m(\u001b[0m\u001b[0;34m\"¿Cuál número crees que sea?: \"\u001b[0m\u001b[0;34m)\u001b[0m\u001b[0;34m)\u001b[0m\u001b[0;34m\u001b[0m\u001b[0;34m\u001b[0m\u001b[0m\n\u001b[0m\u001b[1;32m     12\u001b[0m     \u001b[0mintentos\u001b[0m \u001b[0;34m+=\u001b[0m \u001b[0;36m1\u001b[0m\u001b[0;34m\u001b[0m\u001b[0;34m\u001b[0m\u001b[0m\n\u001b[1;32m     13\u001b[0m     \u001b[0;32mif\u001b[0m \u001b[0mintento\u001b[0m \u001b[0;34m<\u001b[0m \u001b[0mnumeros\u001b[0m\u001b[0;34m:\u001b[0m\u001b[0;34m\u001b[0m\u001b[0;34m\u001b[0m\u001b[0m\n",
            "\u001b[0;32m/usr/local/lib/python3.10/dist-packages/ipykernel/kernelbase.py\u001b[0m in \u001b[0;36mraw_input\u001b[0;34m(self, prompt)\u001b[0m\n\u001b[1;32m    849\u001b[0m                 \u001b[0;34m\"raw_input was called, but this frontend does not support input requests.\"\u001b[0m\u001b[0;34m\u001b[0m\u001b[0;34m\u001b[0m\u001b[0m\n\u001b[1;32m    850\u001b[0m             )\n\u001b[0;32m--> 851\u001b[0;31m         return self._input_request(str(prompt),\n\u001b[0m\u001b[1;32m    852\u001b[0m             \u001b[0mself\u001b[0m\u001b[0;34m.\u001b[0m\u001b[0m_parent_ident\u001b[0m\u001b[0;34m,\u001b[0m\u001b[0;34m\u001b[0m\u001b[0;34m\u001b[0m\u001b[0m\n\u001b[1;32m    853\u001b[0m             \u001b[0mself\u001b[0m\u001b[0;34m.\u001b[0m\u001b[0m_parent_header\u001b[0m\u001b[0;34m,\u001b[0m\u001b[0;34m\u001b[0m\u001b[0;34m\u001b[0m\u001b[0m\n",
            "\u001b[0;32m/usr/local/lib/python3.10/dist-packages/ipykernel/kernelbase.py\u001b[0m in \u001b[0;36m_input_request\u001b[0;34m(self, prompt, ident, parent, password)\u001b[0m\n\u001b[1;32m    893\u001b[0m             \u001b[0;32mexcept\u001b[0m \u001b[0mKeyboardInterrupt\u001b[0m\u001b[0;34m:\u001b[0m\u001b[0;34m\u001b[0m\u001b[0;34m\u001b[0m\u001b[0m\n\u001b[1;32m    894\u001b[0m                 \u001b[0;31m# re-raise KeyboardInterrupt, to truncate traceback\u001b[0m\u001b[0;34m\u001b[0m\u001b[0;34m\u001b[0m\u001b[0m\n\u001b[0;32m--> 895\u001b[0;31m                 \u001b[0;32mraise\u001b[0m \u001b[0mKeyboardInterrupt\u001b[0m\u001b[0;34m(\u001b[0m\u001b[0;34m\"Interrupted by user\"\u001b[0m\u001b[0;34m)\u001b[0m \u001b[0;32mfrom\u001b[0m \u001b[0;32mNone\u001b[0m\u001b[0;34m\u001b[0m\u001b[0;34m\u001b[0m\u001b[0m\n\u001b[0m\u001b[1;32m    896\u001b[0m             \u001b[0;32mexcept\u001b[0m \u001b[0mException\u001b[0m \u001b[0;32mas\u001b[0m \u001b[0me\u001b[0m\u001b[0;34m:\u001b[0m\u001b[0;34m\u001b[0m\u001b[0;34m\u001b[0m\u001b[0m\n\u001b[1;32m    897\u001b[0m                 \u001b[0mself\u001b[0m\u001b[0;34m.\u001b[0m\u001b[0mlog\u001b[0m\u001b[0;34m.\u001b[0m\u001b[0mwarning\u001b[0m\u001b[0;34m(\u001b[0m\u001b[0;34m\"Invalid Message:\"\u001b[0m\u001b[0;34m,\u001b[0m \u001b[0mexc_info\u001b[0m\u001b[0;34m=\u001b[0m\u001b[0;32mTrue\u001b[0m\u001b[0;34m)\u001b[0m\u001b[0;34m\u001b[0m\u001b[0;34m\u001b[0m\u001b[0m\n",
            "\u001b[0;31mKeyboardInterrupt\u001b[0m: Interrupted by user"
          ]
        }
      ]
    },
    {
      "cell_type": "markdown",
      "source": [
        "*4. Ejercicio de cálculo de números primos en un rango dado: Escribe un programa que solicite al usuario un rango de números y muestre todos los números primos dentro de ese rango.*\n"
      ],
      "metadata": {
        "id": "NJ7ojCyuIkz-"
      }
    },
    {
      "cell_type": "code",
      "source": [
        "def primo(numero):\n",
        "  if numero<=1:\n",
        "    return False\n",
        "  if numero<=3:\n",
        "    return True\n",
        "  if numero %2 == 0 or numero % 3 == 0:\n",
        "    return False\n",
        "  i = 5\n",
        "  while i*i <=numero:\n",
        "    if numero % i == 0 or numero % (i+2) == 0:\n",
        "      return False\n",
        "    i += 6\n",
        "  return True\n",
        "\n",
        "try:\n",
        "  lim_inf= int(input(\"Introduce el límite Inferior: \"))\n",
        "  lim_sup= int(input(\"Introduce el límite Superior: \"))\n",
        "\n",
        "  print(\"Los números primos dentro del rango solicitado son: \")\n",
        "  for numero in  range (lim_inf, lim_sup + 1):\n",
        "    if primo(numero):\n",
        "      print(numero)\n",
        "\n",
        "except ValueError:\n",
        "    print(\"No es válido\")\n"
      ],
      "metadata": {
        "colab": {
          "base_uri": "https://localhost:8080/"
        },
        "id": "5tZPYYoTLXGf",
        "outputId": "4feb41d4-1cdc-4b52-995e-c4bf599255a1"
      },
      "execution_count": 36,
      "outputs": [
        {
          "output_type": "stream",
          "name": "stdout",
          "text": [
            "Introduce el límite Inferior: 20\n",
            "Introduce el límite Superior: 200\n",
            "Los números primos dentro del rango solicitado son: \n",
            "23\n",
            "29\n",
            "31\n",
            "37\n",
            "41\n",
            "43\n",
            "47\n",
            "53\n",
            "59\n",
            "61\n",
            "67\n",
            "71\n",
            "73\n",
            "79\n",
            "83\n",
            "89\n",
            "97\n",
            "101\n",
            "103\n",
            "107\n",
            "109\n",
            "113\n",
            "127\n",
            "131\n",
            "137\n",
            "139\n",
            "149\n",
            "151\n",
            "157\n",
            "163\n",
            "167\n",
            "173\n",
            "179\n",
            "181\n",
            "191\n",
            "193\n",
            "197\n",
            "199\n"
          ]
        }
      ]
    }
  ]
}